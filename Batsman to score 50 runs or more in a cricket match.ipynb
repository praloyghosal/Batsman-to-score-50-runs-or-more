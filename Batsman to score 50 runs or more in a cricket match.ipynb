{
 "cells": [
  {
   "cell_type": "code",
   "execution_count": null,
   "id": "15acadc0",
   "metadata": {},
   "outputs": [],
   "source": [
    "# Importing necessary libraries\n",
    "import numpy as np\n",
    "from sklearn.model_selection import train_test_split\n",
    "from sklearn.linear_model import LogisticRegression\n",
    "from sklearn.metrics import accuracy_score\n",
    "\n",
    "# Dummy historical data for training the model\n",
    "# Features: Batting average, Strike rate, Opponent's bowling strength, Venue factor, Weather conditions, etc.\n",
    "X = np.array([[35.2, 120, 0.8, 1.2, 0.9],   # Example 1\n",
    "              [42.5, 110, 0.7, 1.1, 0.8],   # Example 2\n",
    "              [38.9, 115, 0.9, 1.0, 0.7],   # Example 3\n",
    "              ...                         # Add more examples\n",
    "              ])\n",
    "# Labels indicating whether the batsman scored more than 50 runs (1) or not (0)\n",
    "y = np.array([0, 1, 1, ...])  # Corresponding labels for the examples above\n",
    "\n",
    "# Splitting the data into training and testing sets\n",
    "X_train, X_test, y_train, y_test = train_test_split(X, y, test_size=0.2, random_state=42)\n",
    "\n",
    "# Initializing and training the Logistic Regression model\n",
    "clf = LogisticRegression(random_state=42)\n",
    "clf.fit(X_train, y_train)\n",
    "\n",
    "# Making predictions on the testing set\n",
    "predictions = clf.predict(X_test)\n",
    "\n",
    "# Calculating the accuracy of the model\n",
    "accuracy = accuracy_score(y_test, predictions)\n",
    "print(\"Accuracy:\", accuracy)\n",
    "\n",
    "# Now, you can use this trained model to predict whether a batsman will score more than 50 runs\n",
    "# in a cricket match by providing the relevant features as input.\n"
   ]
  }
 ],
 "metadata": {
  "kernelspec": {
   "display_name": "Python 3 (ipykernel)",
   "language": "python",
   "name": "python3"
  },
  "language_info": {
   "codemirror_mode": {
    "name": "ipython",
    "version": 3
   },
   "file_extension": ".py",
   "mimetype": "text/x-python",
   "name": "python",
   "nbconvert_exporter": "python",
   "pygments_lexer": "ipython3",
   "version": "3.9.7"
  }
 },
 "nbformat": 4,
 "nbformat_minor": 5
}
